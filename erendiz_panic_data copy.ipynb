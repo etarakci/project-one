{
 "cells": [
  {
   "cell_type": "code",
   "execution_count": 2,
   "metadata": {},
   "outputs": [],
   "source": [
    "# Dependencies\n",
    "import requests\n",
    "import json\n",
    "from configET import nyt_api_key\n",
    "from pprint import pprint\n",
    "import pandas as pd\n",
    "from datetime import date"
   ]
  },
  {
   "cell_type": "code",
   "execution_count": 3,
   "metadata": {},
   "outputs": [],
   "source": [
    "# # ****DO NOT RUN THIS AGAIN***** \n",
    "# #Request articles from NYT Most Popular API from 1,7, and 30 days ago \n",
    "# #LAST RUN ON 4/13/2020 AKA '041320'\n",
    "# today = date.today()\n",
    "# date = today.strftime(\"%m%d%y\")\n",
    "\n",
    "# periods = [1,7,30]\n",
    "\n",
    "# #loop through periods\n",
    "\n",
    "# for period in periods:\n",
    "#     #set urls\n",
    "#     most_emailed_url = f\"https://api.nytimes.com/svc/mostpopular/v2/emailed/{period}.json?\"\n",
    "#     most_viewed_url = f\"https://api.nytimes.com/svc/mostpopular/v2/viewed/{period}.json?\"\n",
    "#     most_shared_url = f\"https://api.nytimes.com/svc/mostpopular/v2/shared/{period}.json?\"\n",
    "#     most_urls = [most_emailed_url,most_viewed_url,most_shared_url]\n",
    "    \n",
    "#     #loop through urls and store responses\n",
    "    \n",
    "#     most_responses = []\n",
    "#     for u in most_urls:\n",
    "#         query_url = u + \"api-key=\" + nyt_api_key\n",
    "#         # Request articles\n",
    "#         most_responses.append(requests.get(query_url).json())\n",
    "    \n",
    "#     #as of 4/13/2020 (3/14/2020-4/13/2020)\n",
    "#     #pull results from list\n",
    "#     most_emailed = most_responses[0]\n",
    "#     most_viewed = most_responses[1]\n",
    "#     most_shared = most_responses[2]\n",
    "    \n",
    "#     #create dataframes\n",
    "#     most_emailed_df = pd.DataFrame(most_emailed['results'])\n",
    "#     most_viewed_df = pd.DataFrame(most_viewed['results'])\n",
    "#     most_shared_df = pd.DataFrame(most_shared['results'])\n",
    "\n",
    "#     #save as CSVs\n",
    "#     most_emailed_df.to_csv(f'most_emailed_{period}_{date}.csv') # monthdayyear\n",
    "#     most_viewed_df.to_csv(f'most_viewed_{period}_{date}.csv') # monthdayyear\n",
    "#     most_shared_df.to_csv(f'most_shared_{period}_{date}.csv') # monthdayyear\n"
   ]
  },
  {
   "cell_type": "code",
   "execution_count": 4,
   "metadata": {},
   "outputs": [],
   "source": [
    "#info we want: asset_id keywords, title, published_date, url, resave partial data frame to csv\n",
    "period = 30\n",
    "date = '041320' # '041320'\n",
    "#read CSVs and create partial data frame with relevant info\n",
    "most_emailed_df = pd.read_csv(f'data/full_csv/most_emailed_{period}_{date}.csv')\n",
    "most_emailed_df = most_emailed_df[['title','asset_id','adx_keywords','published_date','url']]\n",
    "\n",
    "\n",
    "most_viewed_df = pd.read_csv(f'data/full_csv/most_viewed_{period}_{date}.csv')\n",
    "most_viewed_df = most_viewed_df[['title','asset_id','adx_keywords','published_date','url']]\n",
    "\n",
    "most_shared_df = pd.read_csv(f'data/full_csv/most_shared_{period}_{date}.csv')\n",
    "most_shared_df = most_shared_df[['title','asset_id','adx_keywords','published_date','url']]\n"
   ]
  },
  {
   "cell_type": "code",
   "execution_count": 8,
   "metadata": {},
   "outputs": [],
   "source": [
    "#data frames: \n",
    "# \"data/most_emailed_partial_30_041320.csv\"\n",
    "# \"data/most_viewed_partial_30_041320.csv\"\n",
    "#\" data/most_shared_partial_30_041320.csv\"\n",
    "\n",
    "dataframes = [most_emailed_df,most_viewed_df,most_shared_df]\n",
    "for data in dataframes:\n",
    "    data.sort_values(by=\"published_date\",ascending = True, inplace=True)\n",
    "    #make keywords a list\n",
    "    first_keyword = []\n",
    "    contains_covid19 = []\n",
    "    for index,row in data.iterrows():\n",
    "        key_list = row['adx_keywords'].split(';')\n",
    "        if key_list[0] == 'Coronavirus (2019-nCoV)':\n",
    "            first_keyword.append('True')\n",
    "        else:\n",
    "            first_keyword.append('False')\n",
    "       \n",
    "        if 'Coronavirus (2019-nCoV)' in key_list:\n",
    "            contains_covid19.append('True')\n",
    "        else:\n",
    "            contains_covid19.append('False')\n",
    "    data['first_keyword'] = first_keyword\n",
    "    data['about_covid19'] = contains_covid19\n",
    "    data.set_index('asset_id',inplace=True)\n",
    "    \n",
    "#save partial dataframe as CSV\n",
    "most_emailed_df.to_csv(f'data/most_emailed_partial_{period}_{date}.csv') # monthdayyear \n",
    "most_viewed_df.to_csv(f'data/most_viewed_partial_{period}_{date}.csv') # monthdayyear\n",
    "most_shared_df.to_csv(f'data/most_shared_partial_{period}_{date}.csv') # monthdayyear"
   ]
  },
  {
   "cell_type": "code",
   "execution_count": 19,
   "metadata": {},
   "outputs": [],
   "source": [
    "publish_count_df = []\n",
    "for data in dataframes:\n",
    "    count_df = pd.DataFrame(data['published_date'].value_counts().reset_index().values,\n",
    "                            columns=['Published Date','Number Articles'])\n",
    "    count_df.sort_values(by=\"Published Date\",ascending = True, inplace=True)\n",
    "    count_df.set_index('Published Date',inplace=True)\n",
    "    publish_count_df.append(count_df)\n",
    "\n",
    "most_emailed_pub_df = publish_count_df[0]\n",
    "most_viewed_pub_df = publish_count_df[1] \n",
    "most_shared_pub_df = publish_count_df[2]\n",
    "\n",
    "most_emailed_pub_df.to_csv(f'data/most_emailed_pubcount_{period}_{date}.csv')\n",
    "most_viewed_pub_df.to_csv(f'data/most_viewed_pubcount_{period}_{date}.csv')\n",
    "most_shared_pub_df.to_csv(f'data/most_shared_pubcount_{period}_{date}.csv')"
   ]
  },
  {
   "cell_type": "code",
   "execution_count": 20,
   "metadata": {},
   "outputs": [
    {
     "data": {
      "text/html": [
       "<div>\n",
       "<style scoped>\n",
       "    .dataframe tbody tr th:only-of-type {\n",
       "        vertical-align: middle;\n",
       "    }\n",
       "\n",
       "    .dataframe tbody tr th {\n",
       "        vertical-align: top;\n",
       "    }\n",
       "\n",
       "    .dataframe thead th {\n",
       "        text-align: right;\n",
       "    }\n",
       "</style>\n",
       "<table border=\"1\" class=\"dataframe\">\n",
       "  <thead>\n",
       "    <tr style=\"text-align: right;\">\n",
       "      <th></th>\n",
       "      <th>Number Articles</th>\n",
       "    </tr>\n",
       "    <tr>\n",
       "      <th>Published Date</th>\n",
       "      <th></th>\n",
       "    </tr>\n",
       "  </thead>\n",
       "  <tbody>\n",
       "    <tr>\n",
       "      <td>2020-03-12</td>\n",
       "      <td>1</td>\n",
       "    </tr>\n",
       "    <tr>\n",
       "      <td>2020-03-15</td>\n",
       "      <td>1</td>\n",
       "    </tr>\n",
       "    <tr>\n",
       "      <td>2020-03-17</td>\n",
       "      <td>1</td>\n",
       "    </tr>\n",
       "    <tr>\n",
       "      <td>2020-03-19</td>\n",
       "      <td>3</td>\n",
       "    </tr>\n",
       "    <tr>\n",
       "      <td>2020-03-20</td>\n",
       "      <td>1</td>\n",
       "    </tr>\n",
       "  </tbody>\n",
       "</table>\n",
       "</div>"
      ],
      "text/plain": [
       "               Number Articles\n",
       "Published Date                \n",
       "2020-03-12                   1\n",
       "2020-03-15                   1\n",
       "2020-03-17                   1\n",
       "2020-03-19                   3\n",
       "2020-03-20                   1"
      ]
     },
     "execution_count": 20,
     "metadata": {},
     "output_type": "execute_result"
    }
   ],
   "source": [
    "most_emailed_pub_df.head()"
   ]
  },
  {
   "cell_type": "code",
   "execution_count": 6,
   "metadata": {},
   "outputs": [],
   "source": [
    "# #Top Engagement:\n",
    "# most_engaged_df = pd.merge(most_emailed_df,most_viewed_df, on='asset_id', how='inner')\n",
    "# most_engaged_df = pd.merge(most_engaged_df,most_shared_df, on='asset_id', how='inner')\n",
    "# most_engaged_df.head()"
   ]
  },
  {
   "cell_type": "code",
   "execution_count": 101,
   "metadata": {},
   "outputs": [],
   "source": [
    "# # Testing NYT Article Search API\n",
    "# search_url = \"https://api.nytimes.com/svc/search/v2/articlesearch.json?\"\n",
    "# query = \"coronavirus\"\n",
    "# start = \"20191231\"\n",
    "# end = \"20200409\"\n",
    "\n",
    "# # Build query URL\n",
    "# query_url = search_url + \"api-key=\" + nyt_api_key + \"&q=\" + query + \"begin_date=\" + start + \"end_date=\" + end\n",
    "\n",
    "# # Request articles\n",
    "# articles = requests.get(query_url).json()\n",
    "\n",
    "# # The \"response\" property in articles contains the actual articles\n",
    "# # list comprehension.\n",
    "# articles_list = articles[\"response\"][\"docs\"]\n"
   ]
  },
  {
   "cell_type": "code",
   "execution_count": 16,
   "metadata": {},
   "outputs": [],
   "source": [
    "# Testing NTY archive API\n",
    "# year = 2020\n",
    "# month = 3\n",
    "# archive_url = f\"https://api.nytimes.com/svc/archive/v1/{year}/{month}.json?\"\n",
    "# query_url = archive_url + \"api-key=\" + nyt_api_key\n",
    "# march_articles = requests.get(query_url).json()"
   ]
  }
 ],
 "metadata": {
  "kernelspec": {
   "display_name": "Python 3",
   "language": "python",
   "name": "python3"
  },
  "language_info": {
   "codemirror_mode": {
    "name": "ipython",
    "version": 3
   },
   "file_extension": ".py",
   "mimetype": "text/x-python",
   "name": "python",
   "nbconvert_exporter": "python",
   "pygments_lexer": "ipython3",
   "version": "3.7.4"
  }
 },
 "nbformat": 4,
 "nbformat_minor": 2
}
