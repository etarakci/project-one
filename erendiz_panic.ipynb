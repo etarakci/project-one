{
 "cells": [
  {
   "cell_type": "code",
   "execution_count": 1,
   "metadata": {},
   "outputs": [],
   "source": [
    "# Dependencies\n",
    "import requests\n",
    "import json\n",
    "from configET import nyt_api_key\n",
    "from pprint import pprint\n",
    "import pandas as pd\n",
    "from datetime import date"
   ]
  },
  {
   "cell_type": "code",
   "execution_count": 62,
   "metadata": {},
   "outputs": [],
   "source": [
    "#Request articles from NYT Most Popular API from 1,7, and 30 days ago \n",
    "#LAST RUN ON 4/13/2020 AKA '041320'\n",
    "today = date.today()\n",
    "date = today.strftime(\"%m%d%y\")\n",
    "\n",
    "periods = [1,7,30]\n",
    "\n",
    "#loop through periods\n",
    "\n",
    "for period in periods:\n",
    "    #set urls\n",
    "    most_emailed_url = f\"https://api.nytimes.com/svc/mostpopular/v2/emailed/{period}.json?\"\n",
    "    most_viewed_url = f\"https://api.nytimes.com/svc/mostpopular/v2/viewed/{period}.json?\"\n",
    "    most_shared_url = f\"https://api.nytimes.com/svc/mostpopular/v2/shared/{period}.json?\"\n",
    "    most_urls = [most_emailed_url,most_viewed_url,most_shared_url]\n",
    "    \n",
    "    #loop through urls and store responses\n",
    "    \n",
    "    most_responses = []\n",
    "    for u in most_urls:\n",
    "        query_url = u + \"api-key=\" + nyt_api_key\n",
    "        # Request articles\n",
    "        most_responses.append(requests.get(query_url).json())\n",
    "    \n",
    "    #as of 4/13/2020 (3/14/2020-4/13/2020)\n",
    "    #pull results from list\n",
    "    most_emailed = most_responses[0]\n",
    "    most_viewed = most_responses[1]\n",
    "    most_shared = most_responses[2]\n",
    "    \n",
    "    #create dataframes\n",
    "    most_emailed_df = pd.DataFrame(most_emailed['results'])\n",
    "    most_viewed_df = pd.DataFrame(most_viewed['results'])\n",
    "    most_shared_df = pd.DataFrame(most_shared['results'])\n",
    "\n",
    "    #save as CSVs\n",
    "    most_emailed_df.to_csv(f'most_emailed_{period}_{date}.csv') # monthdayyear\n",
    "    most_viewed_df.to_csv(f'most_viewed_{period}_{date}.csv') # monthdayyear\n",
    "    most_shared_df.to_csv(f'most_shared_{period}_{date}.csv') # monthdayyear\n"
   ]
  },
  {
   "cell_type": "code",
   "execution_count": 28,
   "metadata": {},
   "outputs": [],
   "source": [
    "#info we want: keywords, title, published_date, uri, url, resave partial data frame to csv\n",
    "period = 30\n",
    "date = '041320' # '041320'\n",
    "#read CSVs and create partial data frame with relevant info\n",
    "most_emailed_df = pd.read_csv(f'data/full_csv/most_emailed_{period}_{date}.csv')\n",
    "most_emailed_df = most_emailed_df[['title','asset_id','adx_keywords','published_date','url']]\n",
    "\n",
    "\n",
    "most_viewed_df = pd.read_csv(f'data/full_csv/most_viewed_{period}_{date}.csv')\n",
    "most_viewed_df = most_viewed_df[['title','asset_id','adx_keywords','published_date','url']]\n",
    "\n",
    "most_shared_df = pd.read_csv(f'data/full_csv/most_shared_{period}_{date}.csv')\n",
    "most_shared_df = most_shared_df[['title','asset_id','adx_keywords','published_date','url']]\n",
    "\n",
    "#save partial dataframe as CSV\n",
    "most_emailed_df.to_csv(f'data/most_emailed_partial_{period}_{date}.csv') # monthdayyear \n",
    "most_viewed_df.to_csv(f'data/most_viewed_partial_{period}_{date}.csv') # monthdayyear\n",
    "most_shared_df.to_csv(f'data/most_shared_partial_{period}_{date}.csv') # monthdayyear"
   ]
  },
  {
   "cell_type": "code",
   "execution_count": 29,
   "metadata": {},
   "outputs": [
    {
     "data": {
      "text/html": [
       "<div>\n",
       "<style scoped>\n",
       "    .dataframe tbody tr th:only-of-type {\n",
       "        vertical-align: middle;\n",
       "    }\n",
       "\n",
       "    .dataframe tbody tr th {\n",
       "        vertical-align: top;\n",
       "    }\n",
       "\n",
       "    .dataframe thead th {\n",
       "        text-align: right;\n",
       "    }\n",
       "</style>\n",
       "<table border=\"1\" class=\"dataframe\">\n",
       "  <thead>\n",
       "    <tr style=\"text-align: right;\">\n",
       "      <th></th>\n",
       "      <th>title</th>\n",
       "      <th>asset_id</th>\n",
       "      <th>adx_keywords</th>\n",
       "      <th>published_date</th>\n",
       "      <th>url</th>\n",
       "    </tr>\n",
       "  </thead>\n",
       "  <tbody>\n",
       "    <tr>\n",
       "      <td>7</td>\n",
       "      <td>You’re Retired. Should You Rent or Buy Your Home?</td>\n",
       "      <td>100000006981425</td>\n",
       "      <td>Real Estate and Housing (Residential);Renting ...</td>\n",
       "      <td>2020-03-12</td>\n",
       "      <td>https://www.nytimes.com/2020/03/12/business/re...</td>\n",
       "    </tr>\n",
       "    <tr>\n",
       "      <td>11</td>\n",
       "      <td>A Complete List of Trump’s Attempts to Play Do...</td>\n",
       "      <td>100000007033084</td>\n",
       "      <td>United States Politics and Government;Coronavi...</td>\n",
       "      <td>2020-03-15</td>\n",
       "      <td>https://www.nytimes.com/2020/03/15/opinion/tru...</td>\n",
       "    </tr>\n",
       "    <tr>\n",
       "      <td>19</td>\n",
       "      <td>How Long Will Coronavirus Live on Surfaces or ...</td>\n",
       "      <td>100000007039743</td>\n",
       "      <td>your-feed-science;Coronavirus (2019-nCoV)</td>\n",
       "      <td>2020-03-17</td>\n",
       "      <td>https://www.nytimes.com/2020/03/17/health/coro...</td>\n",
       "    </tr>\n",
       "    <tr>\n",
       "      <td>13</td>\n",
       "      <td>Camus on the Coronavirus</td>\n",
       "      <td>100000007030204</td>\n",
       "      <td>Plague;Books and Literature;Coronavirus (2019-...</td>\n",
       "      <td>2020-03-19</td>\n",
       "      <td>https://www.nytimes.com/2020/03/19/opinion/sun...</td>\n",
       "    </tr>\n",
       "    <tr>\n",
       "      <td>8</td>\n",
       "      <td>Translating a Surveillance Tool into a Virus T...</td>\n",
       "      <td>100000007042395</td>\n",
       "      <td>Coronavirus (2019-nCoV);Mobile Applications;Su...</td>\n",
       "      <td>2020-03-19</td>\n",
       "      <td>https://www.nytimes.com/2020/03/19/us/coronavi...</td>\n",
       "    </tr>\n",
       "  </tbody>\n",
       "</table>\n",
       "</div>"
      ],
      "text/plain": [
       "                                                title         asset_id  \\\n",
       "7   You’re Retired. Should You Rent or Buy Your Home?  100000006981425   \n",
       "11  A Complete List of Trump’s Attempts to Play Do...  100000007033084   \n",
       "19  How Long Will Coronavirus Live on Surfaces or ...  100000007039743   \n",
       "13                           Camus on the Coronavirus  100000007030204   \n",
       "8   Translating a Surveillance Tool into a Virus T...  100000007042395   \n",
       "\n",
       "                                         adx_keywords published_date  \\\n",
       "7   Real Estate and Housing (Residential);Renting ...     2020-03-12   \n",
       "11  United States Politics and Government;Coronavi...     2020-03-15   \n",
       "19          your-feed-science;Coronavirus (2019-nCoV)     2020-03-17   \n",
       "13  Plague;Books and Literature;Coronavirus (2019-...     2020-03-19   \n",
       "8   Coronavirus (2019-nCoV);Mobile Applications;Su...     2020-03-19   \n",
       "\n",
       "                                                  url  \n",
       "7   https://www.nytimes.com/2020/03/12/business/re...  \n",
       "11  https://www.nytimes.com/2020/03/15/opinion/tru...  \n",
       "19  https://www.nytimes.com/2020/03/17/health/coro...  \n",
       "13  https://www.nytimes.com/2020/03/19/opinion/sun...  \n",
       "8   https://www.nytimes.com/2020/03/19/us/coronavi...  "
      ]
     },
     "execution_count": 29,
     "metadata": {},
     "output_type": "execute_result"
    }
   ],
   "source": [
    "most_emailed_df.sort_values(by=\"published_date\",ascending = True, inplace=True)\n",
    "most_viewed_df.sort_values(by=\"published_date\",ascending = True, inplace=True)\n",
    "most_shared_df.sort_values(by=\"published_date\",ascending = True, inplace=True)\n",
    "most_emailed_df.head()"
   ]
  },
  {
   "cell_type": "code",
   "execution_count": 37,
   "metadata": {},
   "outputs": [
    {
     "data": {
      "text/plain": [
       "20"
      ]
     },
     "execution_count": 37,
     "metadata": {},
     "output_type": "execute_result"
    }
   ],
   "source": []
  },
  {
   "cell_type": "code",
   "execution_count": null,
   "metadata": {},
   "outputs": [],
   "source": [
    "# # Testing NYT Article Search API\n",
    "# search_url = \"https://api.nytimes.com/svc/search/v2/articlesearch.json?\"\n",
    "# query = \"coronavirus\"\n",
    "# start = \"20191231\"\n",
    "# end = \"20200409\"\n",
    "\n",
    "# # Build query URL\n",
    "# query_url = search_url + \"api-key=\" + nyt_api_key + \"&q=\" + query + \"begin_date=\" + start + \"end_date=\" + end\n",
    "\n",
    "# # Request articles\n",
    "# articles = requests.get(query_url).json()\n",
    "\n",
    "# # The \"response\" property in articles contains the actual articles\n",
    "# # list comprehension.\n",
    "# articles_list = articles[\"response\"][\"docs\"]"
   ]
  },
  {
   "cell_type": "code",
   "execution_count": 16,
   "metadata": {},
   "outputs": [],
   "source": [
    "# Testing NTY archive API\n",
    "# year = 2020\n",
    "# month = 3\n",
    "# archive_url = f\"https://api.nytimes.com/svc/archive/v1/{year}/{month}.json?\"\n",
    "# query_url = archive_url + \"api-key=\" + nyt_api_key\n",
    "# march_articles = requests.get(query_url).json()"
   ]
  },
  {
   "cell_type": "code",
   "execution_count": null,
   "metadata": {},
   "outputs": [],
   "source": []
  }
 ],
 "metadata": {
  "kernelspec": {
   "display_name": "Python 3",
   "language": "python",
   "name": "python3"
  },
  "language_info": {
   "codemirror_mode": {
    "name": "ipython",
    "version": 3
   },
   "file_extension": ".py",
   "mimetype": "text/x-python",
   "name": "python",
   "nbconvert_exporter": "python",
   "pygments_lexer": "ipython3",
   "version": "3.7.4"
  }
 },
 "nbformat": 4,
 "nbformat_minor": 2
}
