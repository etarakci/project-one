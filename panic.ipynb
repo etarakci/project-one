{
 "cells": [
  {
   "cell_type": "code",
   "execution_count": 59,
   "metadata": {},
   "outputs": [],
   "source": [
    "# Dependencies\n",
    "import requests\n",
    "import json\n",
    "from configET import nyt_api_key\n",
    "from pprint import pprint\n",
    "import pandas as pd\n",
    "\n",
    "search_url = \"https://api.nytimes.com/svc/search/v2/articlesearch.json?\"\n"
   ]
  },
  {
   "cell_type": "code",
   "execution_count": 11,
   "metadata": {},
   "outputs": [
    {
     "data": {
      "text/plain": [
       "'https://api.nytimes.com/svc/search/v2/articlesearch.json?api-key=gT2FSvOhH2TVWDw7IqVWSdCdKxbLuqnV&q=coronavirusbegin_date=20191231end_date=20200409'"
      ]
     },
     "execution_count": 11,
     "metadata": {},
     "output_type": "execute_result"
    }
   ],
   "source": [
    "# Query\n",
    "query = \"coronavirus\"\n",
    "start = \"20191231\"\n",
    "end = \"20200409\"\n",
    "\n",
    "# Build query URL\n",
    "query_url = search_url + \"api-key=\" + nyt_api_key + \"&q=\" + query + \"begin_date=\" + start + \"end_date=\" + end\n",
    "query_url"
   ]
  },
  {
   "cell_type": "code",
   "execution_count": 12,
   "metadata": {},
   "outputs": [
    {
     "data": {
      "text/plain": [
       "{'abstract': '',\n",
       " 'web_url': 'https://www.nytimes.com/1980/09/11/archives/corrections.html',\n",
       " 'snippet': '',\n",
       " 'lead_paragraph': '',\n",
       " 'print_section': 'M',\n",
       " 'print_page': '1',\n",
       " 'source': 'The New York Times',\n",
       " 'multimedia': [],\n",
       " 'headline': {'main': 'CORRECTIONS',\n",
       "  'kicker': '1',\n",
       "  'content_kicker': None,\n",
       "  'print_headline': 'CORRECTIONS',\n",
       "  'name': None,\n",
       "  'seo': None,\n",
       "  'sub': None},\n",
       " 'keywords': [],\n",
       " 'pub_date': '1980-09-11T05:00:00+0000',\n",
       " 'document_type': 'article',\n",
       " 'news_desk': 'None',\n",
       " 'section_name': 'Archives',\n",
       " 'byline': {'original': None, 'person': [], 'organization': None},\n",
       " 'type_of_material': 'Archives',\n",
       " '_id': 'nyt://article/17af0b33-b78f-55f6-a9cd-e793c36c907b',\n",
       " 'word_count': 0,\n",
       " 'uri': 'nyt://article/17af0b33-b78f-55f6-a9cd-e793c36c907b'}"
      ]
     },
     "execution_count": 12,
     "metadata": {},
     "output_type": "execute_result"
    }
   ],
   "source": [
    "# Request articles\n",
    "articles = requests.get(query_url).json()\n",
    "\n",
    "# The \"response\" property in articles contains the actual articles\n",
    "# list comprehension.\n",
    "articles_list = articles[\"response\"][\"docs\"]\n",
    "articles_list[0]\n"
   ]
  },
  {
   "cell_type": "code",
   "execution_count": 62,
   "metadata": {},
   "outputs": [],
   "source": [
    "from datetime import date\n",
    "today = date.today()\n",
    "date = today.strftime(\"%m%d%y\")\n",
    "\n",
    "periods = [1,7,30]\n",
    "\n",
    "for period in periods:\n",
    "\n",
    "    most_emailed_url = f\"https://api.nytimes.com/svc/mostpopular/v2/emailed/{period}.json?\"\n",
    "    most_viewed_url = f\"https://api.nytimes.com/svc/mostpopular/v2/viewed/{period}.json?\"\n",
    "    most_shared_url = f\"https://api.nytimes.com/svc/mostpopular/v2/shared/{period}.json?\"\n",
    "\n",
    "    most_urls = [most_emailed_url,most_viewed_url,most_shared_url]\n",
    "    most_responses = []\n",
    "    for u in most_urls:\n",
    "        query_url = u + \"api-key=\" + nyt_api_key\n",
    "        # Request articles\n",
    "        most_responses.append(requests.get(query_url).json())\n",
    "    \n",
    "    #as of 4/13/2020 (3/13/2020-4/13/2020)\n",
    "    most_emailed = most_responses[0]\n",
    "    most_viewed = most_responses[1]\n",
    "    most_shared = most_responses[2]\n",
    "\n",
    "    most_emailed_df = pd.DataFrame(most_emailed['results'])\n",
    "    most_viewed_df = pd.DataFrame(most_viewed['results'])\n",
    "    most_shared_df = pd.DataFrame(most_shared['results'])\n",
    "\n",
    "    most_emailed_df.to_csv(f'most_emailed_{period}_{date}') # monthdayyear\n",
    "    most_viewed_df.to_csv(f'most_viewed_{period}_{date}') # monthdayyear\n",
    "    most_shared_df.to_csv(f'most_shared_{period}_{date}') # monthdayyear\n"
   ]
  },
  {
   "cell_type": "code",
   "execution_count": 72,
   "metadata": {},
   "outputs": [],
   "source": [
    "#info we want: keywords, title, published_date, uri, url\n",
    "period = 30\n",
    "date = '041320'\n",
    "most_emailed_df = pd.read_csv(f'most_emailed_{period}_{date}')\n",
    "most_emailed_df = most_emailed_df[['title','adx_keywords','published_date','uri','url']]\n",
    "\n",
    "most_viewed_df = pd.read_csv(f'most_viewed_{period}_{date}')\n",
    "most_viewed_df = most_viewed_df[['title','adx_keywords','published_date','uri','url']]\n",
    "\n",
    "most_shared_df = pd.read_csv(f'most_shared_{period}_{date}')\n",
    "most_shared_df = most_shared_df[['title','adx_keywords','published_date','uri','url']]"
   ]
  },
  {
   "cell_type": "code",
   "execution_count": 73,
   "metadata": {},
   "outputs": [
    {
     "data": {
      "text/html": [
       "<div>\n",
       "<style scoped>\n",
       "    .dataframe tbody tr th:only-of-type {\n",
       "        vertical-align: middle;\n",
       "    }\n",
       "\n",
       "    .dataframe tbody tr th {\n",
       "        vertical-align: top;\n",
       "    }\n",
       "\n",
       "    .dataframe thead th {\n",
       "        text-align: right;\n",
       "    }\n",
       "</style>\n",
       "<table border=\"1\" class=\"dataframe\">\n",
       "  <thead>\n",
       "    <tr style=\"text-align: right;\">\n",
       "      <th></th>\n",
       "      <th>title</th>\n",
       "      <th>adx_keywords</th>\n",
       "      <th>published_date</th>\n",
       "      <th>uri</th>\n",
       "      <th>url</th>\n",
       "    </tr>\n",
       "  </thead>\n",
       "  <tbody>\n",
       "    <tr>\n",
       "      <td>0</td>\n",
       "      <td>How to Make a Face Mask</td>\n",
       "      <td>Sewing;Coronavirus (2019-nCoV);Do It Yourself;...</td>\n",
       "      <td>2020-03-31</td>\n",
       "      <td>nyt://article/192eb883-f606-579b-8a09-33751ab0...</td>\n",
       "      <td>https://www.nytimes.com/article/how-to-make-fa...</td>\n",
       "    </tr>\n",
       "    <tr>\n",
       "      <td>1</td>\n",
       "      <td>These Coronavirus Exposures Might Be the Most ...</td>\n",
       "      <td>Coronavirus (2019-nCoV);Vaccination and Immuni...</td>\n",
       "      <td>2020-04-01</td>\n",
       "      <td>nyt://article/fbedf7cf-7ea9-512f-8c1b-c93345c1...</td>\n",
       "      <td>https://www.nytimes.com/2020/04/01/opinion/cor...</td>\n",
       "    </tr>\n",
       "    <tr>\n",
       "      <td>2</td>\n",
       "      <td>I Spent a Year in Space, and I Have Tips on Is...</td>\n",
       "      <td>Coronavirus (2019-nCoV);Space and Astronomy;Qu...</td>\n",
       "      <td>2020-03-21</td>\n",
       "      <td>nyt://article/76a5a66c-de51-5074-b740-a1aa7de9...</td>\n",
       "      <td>https://www.nytimes.com/2020/03/21/opinion/sco...</td>\n",
       "    </tr>\n",
       "    <tr>\n",
       "      <td>3</td>\n",
       "      <td>A Plan to Get America Back to Work</td>\n",
       "      <td>Quarantines;Shutdowns (Institutional);Coronavi...</td>\n",
       "      <td>2020-03-22</td>\n",
       "      <td>nyt://article/69ff6c76-e28e-57da-b72f-00f7fdba...</td>\n",
       "      <td>https://www.nytimes.com/2020/03/22/opinion/cor...</td>\n",
       "    </tr>\n",
       "    <tr>\n",
       "      <td>4</td>\n",
       "      <td>Here’s How Those Hot Jigsaw Puzzles Are Made</td>\n",
       "      <td>Puzzles;Coronavirus (2019-nCoV);Quarantines</td>\n",
       "      <td>2020-04-08</td>\n",
       "      <td>nyt://article/04f59458-cf21-5e21-b68d-e98db46f...</td>\n",
       "      <td>https://www.nytimes.com/2020/04/08/business/co...</td>\n",
       "    </tr>\n",
       "  </tbody>\n",
       "</table>\n",
       "</div>"
      ],
      "text/plain": [
       "                                               title  \\\n",
       "0                            How to Make a Face Mask   \n",
       "1  These Coronavirus Exposures Might Be the Most ...   \n",
       "2  I Spent a Year in Space, and I Have Tips on Is...   \n",
       "3                 A Plan to Get America Back to Work   \n",
       "4       Here’s How Those Hot Jigsaw Puzzles Are Made   \n",
       "\n",
       "                                        adx_keywords published_date  \\\n",
       "0  Sewing;Coronavirus (2019-nCoV);Do It Yourself;...     2020-03-31   \n",
       "1  Coronavirus (2019-nCoV);Vaccination and Immuni...     2020-04-01   \n",
       "2  Coronavirus (2019-nCoV);Space and Astronomy;Qu...     2020-03-21   \n",
       "3  Quarantines;Shutdowns (Institutional);Coronavi...     2020-03-22   \n",
       "4        Puzzles;Coronavirus (2019-nCoV);Quarantines     2020-04-08   \n",
       "\n",
       "                                                 uri  \\\n",
       "0  nyt://article/192eb883-f606-579b-8a09-33751ab0...   \n",
       "1  nyt://article/fbedf7cf-7ea9-512f-8c1b-c93345c1...   \n",
       "2  nyt://article/76a5a66c-de51-5074-b740-a1aa7de9...   \n",
       "3  nyt://article/69ff6c76-e28e-57da-b72f-00f7fdba...   \n",
       "4  nyt://article/04f59458-cf21-5e21-b68d-e98db46f...   \n",
       "\n",
       "                                                 url  \n",
       "0  https://www.nytimes.com/article/how-to-make-fa...  \n",
       "1  https://www.nytimes.com/2020/04/01/opinion/cor...  \n",
       "2  https://www.nytimes.com/2020/03/21/opinion/sco...  \n",
       "3  https://www.nytimes.com/2020/03/22/opinion/cor...  \n",
       "4  https://www.nytimes.com/2020/04/08/business/co...  "
      ]
     },
     "execution_count": 73,
     "metadata": {},
     "output_type": "execute_result"
    }
   ],
   "source": [
    "most_emailed_df.head()"
   ]
  },
  {
   "cell_type": "code",
   "execution_count": null,
   "metadata": {},
   "outputs": [],
   "source": []
  }
 ],
 "metadata": {
  "kernelspec": {
   "display_name": "Python 3",
   "language": "python",
   "name": "python3"
  },
  "language_info": {
   "codemirror_mode": {
    "name": "ipython",
    "version": 3
   },
   "file_extension": ".py",
   "mimetype": "text/x-python",
   "name": "python",
   "nbconvert_exporter": "python",
   "pygments_lexer": "ipython3",
   "version": "3.7.4"
  }
 },
 "nbformat": 4,
 "nbformat_minor": 2
}
